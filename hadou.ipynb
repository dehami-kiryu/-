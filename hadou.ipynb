{
  "nbformat": 4,
  "nbformat_minor": 0,
  "metadata": {
    "colab": {
      "provenance": [],
      "authorship_tag": "ABX9TyNNq5bRZI2yTfpTldrFsrWE",
      "include_colab_link": true
    },
    "kernelspec": {
      "name": "python3",
      "display_name": "Python 3"
    },
    "language_info": {
      "name": "python"
    }
  },
  "cells": [
    {
      "cell_type": "markdown",
      "metadata": {
        "id": "view-in-github",
        "colab_type": "text"
      },
      "source": [
        "<a href=\"https://colab.research.google.com/github/dehami-kiryu/-/blob/main/hadou.ipynb\" target=\"_parent\"><img src=\"https://colab.research.google.com/assets/colab-badge.svg\" alt=\"Open In Colab\"/></a>"
      ]
    },
    {
      "cell_type": "code",
      "execution_count": null,
      "metadata": {
        "id": "an1MerK8QWlC"
      },
      "outputs": [],
      "source": [
        "using ApproxFun\n",
        "using LinearAlgebra\n",
        "\n",
        "dx = -1..1;\n",
        "dt = 0..1;"
      ]
    },
    {
      "cell_type": "code",
      "source": [
        "d = dx × dt;"
      ],
      "metadata": {
        "id": "kfKW7OetQpLq"
      },
      "execution_count": null,
      "outputs": []
    },
    {
      "cell_type": "code",
      "source": [
        "u0 = Fun(x->exp(-x^2/(2*0.2^2)), dx);"
      ],
      "metadata": {
        "id": "aja08sI2QpCl"
      },
      "execution_count": null,
      "outputs": []
    },
    {
      "cell_type": "code",
      "source": [
        "Dx = Derivative(d,[1,0]);\n",
        "Dt = Derivative(d,[0,1]);"
      ],
      "metadata": {
        "id": "Q0TrsMymQot3"
      },
      "execution_count": null,
      "outputs": []
    },
    {
      "cell_type": "code",
      "source": [
        "A = [Dt - Dx^2; I⊗ldirichlet(dt); bvp(dx)⊗I];"
      ],
      "metadata": {
        "id": "ydysIi5-QwQU"
      },
      "execution_count": null,
      "outputs": []
    },
    {
      "cell_type": "code",
      "source": [
        "rhs = [0.0; u0; 0.0; 0.0];"
      ],
      "metadata": {
        "id": "3oMRRM42QwF-"
      },
      "execution_count": null,
      "outputs": []
    },
    {
      "cell_type": "code",
      "source": [
        "u = \\(A, rhs, tolerance=1e-4);"
      ],
      "metadata": {
        "id": "8ATWx3ODQv70"
      },
      "execution_count": null,
      "outputs": []
    },
    {
      "cell_type": "code",
      "source": [
        "import Plots\n",
        "xplot = -1:0.02:1\n",
        "p = Plots.plot(xplot, u.(xplot, 0), label=\"t=0\", legend=true, linewidth=2)\n",
        "for t in [0.05, 0.1, 0.2, 0.5, 0.8]\n",
        "\tPlots.plot!(xplot, u.(xplot, t), label=\"t=$t\")\n",
        "end\n",
        "p"
      ],
      "metadata": {
        "id": "LQPpLdERQ4NE"
      },
      "execution_count": null,
      "outputs": []
    },
    {
      "cell_type": "code",
      "source": [],
      "metadata": {
        "id": "9leNsiHMQ4G9"
      },
      "execution_count": null,
      "outputs": []
    }
  ]
}